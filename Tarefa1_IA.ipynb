{
  "nbformat": 4,
  "nbformat_minor": 0,
  "metadata": {
    "colab": {
      "provenance": [],
      "authorship_tag": "ABX9TyOKcrQjkTP3pLHE22/u9yVq",
      "include_colab_link": true
    },
    "kernelspec": {
      "name": "python3",
      "display_name": "Python 3"
    },
    "language_info": {
      "name": "python"
    }
  },
  "cells": [
    {
      "cell_type": "markdown",
      "metadata": {
        "id": "view-in-github",
        "colab_type": "text"
      },
      "source": [
        "<a href=\"https://colab.research.google.com/github/AmandaAmorim/amandaamorim/blob/main/Tarefa1_IA.ipynb\" target=\"_parent\"><img src=\"https://colab.research.google.com/assets/colab-badge.svg\" alt=\"Open In Colab\"/></a>"
      ]
    },
    {
      "cell_type": "markdown",
      "source": [
        "__Nome:__ Amanda Taveira Amorim | __RA:__ 1840482022022 <br>\n",
        "__Curso:__ Análise e Desenvolvimento de Sistemas | __Periodo:__ Vespertino(cursando a matéria no período noturno)\n",
        "\n",
        "---\n",
        "\n",
        "# TAREFA 1:  Explorar a plataforma do Google Colab\n",
        "\n",
        "Intruções da tarefa: <br>\n",
        ">Depois de criar sua conta no Google Colab, siga o tutorial apresentado na página \"Olá, este é o Colaboratory\", tópico \"Como trabalhar com Notebooks no Colab\".\n",
        "\n",
        "Tópicos do tutorial:\n",
        "> - Visão geral do Colaboratory.\n",
        "> - Guia sobre Markdown.\n",
        "> - Importar bibliotecas e instalar dependências.\n",
        "> - Salvar e carregar notebooks no Github.\n",
        "> - Formulários interativos.\n",
        "> - Widgets interativos.\n",
        "\n"
      ],
      "metadata": {
        "id": "3s1e78O_C1_M"
      }
    },
    {
      "cell_type": "markdown",
      "source": [
        "#Como trabalhar com Notebooks no Colab:\n"
      ],
      "metadata": {
        "id": "HoMbfs2gEtJ3"
      }
    },
    {
      "cell_type": "markdown",
      "source": [
        "##**Code cells**\n",
        "\n"
      ],
      "metadata": {
        "id": "YI_DodzrFdWz"
      }
    },
    {
      "cell_type": "code",
      "execution_count": null,
      "metadata": {
        "colab": {
          "base_uri": "https://localhost:8080/"
        },
        "id": "2IFeV_olV0-o",
        "outputId": "4132704b-fac5-424a-c3ac-15975fd5de21"
      },
      "outputs": [
        {
          "output_type": "execute_result",
          "data": {
            "text/plain": [
              "10"
            ]
          },
          "metadata": {},
          "execution_count": 1
        }
      ],
      "source": [
        "ponto = 10\n",
        "ponto"
      ]
    },
    {
      "cell_type": "markdown",
      "source": [
        "\n",
        "\n",
        "##**Text cells**\n"
      ],
      "metadata": {
        "id": "-YitfnOKFoKj"
      }
    },
    {
      "cell_type": "markdown",
      "source": [
        "Formulas matemáticas com $ sqrt: <br>\n",
        "\n",
        " $\\sqrt{3x-1}+(1+x)^2$"
      ],
      "metadata": {
        "id": "5vw_3V__F97B"
      }
    },
    {
      "cell_type": "markdown",
      "source": [
        "##**Working with python**\n",
        "\n"
      ],
      "metadata": {
        "id": "4dXRA5jbGw95"
      }
    },
    {
      "cell_type": "code",
      "source": [
        "import time\n",
        "print(\"Preparando...\")\n",
        "time.sleep(30) # Tempo de preparo!\n",
        "print(\"Seu café está pronto!\")"
      ],
      "metadata": {
        "colab": {
          "base_uri": "https://localhost:8080/"
        },
        "id": "fPxhz8p_HXFP",
        "outputId": "8ca09999-c12c-451f-8e35-1c8aa3499977"
      },
      "execution_count": null,
      "outputs": [
        {
          "output_type": "stream",
          "name": "stdout",
          "text": [
            "Preparando...\n",
            "Seu café está pronto!\n"
          ]
        }
      ]
    },
    {
      "cell_type": "markdown",
      "source": [
        "##**System aliases**\n",
        "\n"
      ],
      "metadata": {
        "id": "nLwU4zNfIH1-"
      }
    },
    {
      "cell_type": "code",
      "source": [
        "!ls /bin"
      ],
      "metadata": {
        "id": "HBVywZuQIQUd"
      },
      "execution_count": null,
      "outputs": []
    },
    {
      "cell_type": "markdown",
      "source": [
        "Mensagem: <br>\n",
        "\n"
      ],
      "metadata": {
        "id": "gnX7TaicJKmy"
      }
    },
    {
      "cell_type": "code",
      "source": [
        "# In https://github.com/ipython/ipython/pull/10545, single quote strings are ignored\n",
        "message = 'Colaboratory is great!'\n",
        "foo = !unset message && echo -e '{message}\\n{message}\\n'$message\"\\n$message\"\n",
        "foo"
      ],
      "metadata": {
        "id": "lpBvbAlIJO-P"
      },
      "execution_count": null,
      "outputs": []
    },
    {
      "cell_type": "markdown",
      "source": [
        "##**Magics**\n",
        "\n"
      ],
      "metadata": {
        "id": "39n9-_0FIdCI"
      }
    },
    {
      "cell_type": "code",
      "source": [
        "%%html\n",
        "<marquee style='width: 30%; color: blue;'><b>Whee!</b></marquee>"
      ],
      "metadata": {
        "id": "yV8T7AiLIlxs"
      },
      "execution_count": null,
      "outputs": []
    },
    {
      "cell_type": "code",
      "source": [
        "%%html\n",
        "<svg xmlns=\"http://www.w3.org/2000/svg\" viewBox=\"0 0 450 400\" width=\"200\" height=\"200\">\n",
        "  <rect x=\"80\" y=\"60\" width=\"250\" height=\"250\" rx=\"20\" style=\"fill:red; stroke:black; fill-opacity:0.7\" />\n",
        "  <rect x=\"180\" y=\"110\" width=\"250\" height=\"250\" rx=\"40\" style=\"fill:blue; stroke:black; fill-opacity:0.5;\" />\n",
        "</svg>"
      ],
      "metadata": {
        "id": "jKS0vnsDI8k5"
      },
      "execution_count": null,
      "outputs": []
    },
    {
      "cell_type": "markdown",
      "source": [
        "##**Rich, interactive utputs**\n"
      ],
      "metadata": {
        "id": "6s9Ou0hiOSb-"
      }
    },
    {
      "cell_type": "code",
      "source": [
        "import numpy as np\n",
        "from matplotlib import pyplot as plt\n",
        "\n",
        "ys = 200 + np.random.randn(100)\n",
        "x = [x for x in range(len(ys))]\n",
        "\n",
        "plt.plot(x, ys, '-')\n",
        "plt.fill_between(x, ys, 195, where=(ys > 195), facecolor='g', alpha=0.6)\n",
        "\n",
        "plt.title(\"Fills and Alpha Example\")\n",
        "plt.show()"
      ],
      "metadata": {
        "id": "-kj4FsBpOZV9"
      },
      "execution_count": null,
      "outputs": []
    },
    {
      "cell_type": "markdown",
      "source": [
        "##**Guia sobre Markdown**\n",
        "\n",
        "\n"
      ],
      "metadata": {
        "id": "kCaHAC-IQffb"
      }
    },
    {
      "cell_type": "markdown",
      "source": [
        "###Formatação:\n",
        "\n",
        ">- **negrito**\n",
        "- *italico versão1* ou _italico versão2_\n",
        "- `Monospace`\n",
        "- ~~texto riscado~\n",
        "\n",
        "Inserção de link:\n",
        "> - Um link -> [google](https://www.google.com) <br>\n",
        "\n",
        "Inserção de imagem:\n",
        "> -  Uma imagem : <br>![An image](https://media.tenor.com/43UBbcjN6VYAAAAj/levi-levi-ackerman.gif)\n",
        "\n",
        "Níveis de título:\n",
        "#Nível 1\n",
        "##Nível 2\n",
        "###Nível 3\n",
        "\n",
        "Níveis de identação:\n",
        "\n",
        "```python\n",
        "> Nível um de identação\n",
        "```\n",
        "> Nível um de identação\n",
        "\n",
        "```python\n",
        ">>Nível dois de identação\n",
        "```\n",
        ">> Nível dois de identação\n",
        "\n",
        "Blocos de código:\n",
        "  ```python\n",
        "    print(\"Quero café!!!\")\n",
        "  ```\n",
        "\n",
        "listas ordenadas:\n",
        "```python\n",
        "1. Python\n",
        "2. Javascript\n",
        "3. PHP\n",
        "```\n",
        "1. Python\n",
        "2. Javascript\n",
        "3. PHP\n",
        "\n",
        "listas desordenadas:\n",
        "```python\n",
        "* Python\n",
        "* Javascript\n",
        "* PHP\n",
        "```\n",
        "* Python\n",
        "* Javascript\n",
        "* PHP\n",
        "\n",
        "Tabelas:\n",
        "\n",
        "```python\n",
        "PRODUTO | PREÇO\n",
        "--------|-------\n",
        "Arroz   | 30,00\n",
        "Café    | 16,00\n",
        "```\n",
        "PRODUTO | PREÇO\n",
        "--------|-------\n",
        "Arroz   | 30,00\n",
        "Café    | 16,00\n",
        "\n",
        "\n",
        "Divisão horizontal:\n",
        "```python\n",
        "---\n",
        "```\n",
        "---"
      ],
      "metadata": {
        "id": "UBJlDaFtQzBb"
      }
    },
    {
      "cell_type": "markdown",
      "source": [
        "##**Importação de bibliotecas e instalação de dependências**\n",
        "\n",
        "\n"
      ],
      "metadata": {
        "id": "bXJ5mamrnCVR"
      }
    },
    {
      "cell_type": "code",
      "source": [
        "!pip install matplotlib-venn"
      ],
      "metadata": {
        "id": "Yk5YUH1e4vEr"
      },
      "execution_count": null,
      "outputs": []
    },
    {
      "cell_type": "code",
      "source": [
        "!apt-get -qq install -y libfluidsynth1"
      ],
      "metadata": {
        "id": "F7EpYEGy4zuc"
      },
      "execution_count": null,
      "outputs": []
    },
    {
      "cell_type": "markdown",
      "source": [
        "###Libarchive\n",
        "\n"
      ],
      "metadata": {
        "id": "BJRxcY0XnWhU"
      }
    },
    {
      "cell_type": "code",
      "source": [
        "# https://pypi.python.org/pypi/libarchive\n",
        "!apt-get -qq install -y libarchive-dev && pip install -U libarchive\n",
        "import libarchive"
      ],
      "metadata": {
        "id": "hRnpLniM4CkC"
      },
      "execution_count": null,
      "outputs": []
    },
    {
      "cell_type": "markdown",
      "source": [
        "###GraphViz & PyDot\n",
        "\n"
      ],
      "metadata": {
        "id": "vudv0pAU4Hhj"
      }
    },
    {
      "cell_type": "code",
      "source": [
        "# https://pypi.python.org/pypi/pydot\n",
        "!apt-get -qq install -y graphviz && pip install pydot\n",
        "import pydot"
      ],
      "metadata": {
        "id": "LAs1U1K-4OOY"
      },
      "execution_count": null,
      "outputs": []
    },
    {
      "cell_type": "markdown",
      "source": [
        "###Cartopy\n",
        "\n"
      ],
      "metadata": {
        "id": "xn5zVNV64TaT"
      }
    },
    {
      "cell_type": "code",
      "source": [
        "!pip install cartopy\n",
        "import cartopy"
      ],
      "metadata": {
        "id": "y_3XXCS94W-V"
      },
      "execution_count": null,
      "outputs": []
    },
    {
      "cell_type": "markdown",
      "source": [
        "###Streamlit\n",
        "\n"
      ],
      "metadata": {
        "id": "x2wQeU6e4afV"
      }
    },
    {
      "cell_type": "code",
      "source": [
        "!pip install streamlit\n",
        "import streamlit"
      ],
      "metadata": {
        "id": "4HyveX6g4hdO"
      },
      "execution_count": null,
      "outputs": []
    },
    {
      "cell_type": "markdown",
      "source": [
        "##**Formulários**"
      ],
      "metadata": {
        "id": "VE1b3znKoEPC"
      }
    },
    {
      "cell_type": "markdown",
      "source": [
        "Formulário criando com base no tutorial do Colab:"
      ],
      "metadata": {
        "id": "Q06Kfq45K8MI"
      }
    },
    {
      "cell_type": "code",
      "source": [
        "name = \"Amanda\" # @param {type:\"string\"}\n",
        "curso = \"ADS\" # @param [\"ADS\", \"RH\", \"Logistica\", \"Gestao Empresarial\", \"\"]\n",
        "semestre = \"6.Semestre\" # @param [\"1.Semestre\", \"2.Semestre\", \"3.Semestre\", \"4.Semestre\", \"5.Semestre\", \"6.Semestre\"]\n",
        "data= '2024-03-01' #@param {type:\"date\"}\n",
        "materia = \"Inteligência Artificial\" # @param {type:\"string\"}\n",
        "nota = 10.0 # @param {type:\"number\"}\n",
        "aprovado_por_nota = True # @param [\"False\",\"True\"]{type:\"raw\"}\n",
        "aprovado_por_presença = True # @param [\"False\",\"True\"]{type:\"raw\"}"
      ],
      "metadata": {
        "id": "DumabEiY7XPJ"
      },
      "execution_count": null,
      "outputs": []
    },
    {
      "cell_type": "markdown",
      "source": [
        "#**Tutorial de Machine Learning**\n",
        "fonte: Vídeo do canal Filipe Deschamps -> [Machine Learning:Tutorial prático usando apenas o navegador(é sensacional!!!)](https://www.youtube.com/watch?v=JyGGMyR3x5I)\n",
        "\n",
        "### *Introdução à Machine Learning\n",
        "Classificação binária: Identificar qual objeto é um porco e qual é um cachorro, definidos por 3 características diferentes(pelo longo, perna curta, faz auau). Se a resposta for sim, a característica recebe 1, se for não, recebe 0."
      ],
      "metadata": {
        "id": "f6JPlT5H6-j3"
      }
    },
    {
      "cell_type": "code",
      "execution_count": null,
      "metadata": {
        "id": "YtCwvRat6V37"
      },
      "outputs": [],
      "source": [
        "porco1 = [0, 1, 0]\n",
        "porco2 = [0, 1, 1]\n",
        "porco3 = [1, 1, 0]\n",
        "\n",
        "cachorro1 =[0, 1, 1]\n",
        "cachorro2 =[1, 0, 1]\n",
        "cachorro3 =[1, 1, 1]\n",
        "\n",
        "treino_x = [porco1, porco2, porco3, cachorro1, cachorro2, cachorro3]\n",
        "treino_y = [1,1,1,0,0,0]\n",
        "\n",
        "from sklearn.svm import LinearSVC\n",
        "modelo = LinearSVC()\n",
        "modelo.fit(treino_x, treino_y)"
      ]
    },
    {
      "cell_type": "code",
      "source": [
        "animal_misterioso = [1, 1 , 1]\n",
        "modelo.predict([animal_misterioso])"
      ],
      "metadata": {
        "colab": {
          "base_uri": "https://localhost:8080/"
        },
        "id": "vhCB33Eg9iGJ",
        "outputId": "981b8626-da71-48e2-ddd8-4a3e7b2cedee"
      },
      "execution_count": null,
      "outputs": [
        {
          "output_type": "execute_result",
          "data": {
            "text/plain": [
              "array([0])"
            ]
          },
          "metadata": {},
          "execution_count": 12
        }
      ]
    },
    {
      "cell_type": "code",
      "source": [
        "misterio1 =[1, 1, 1]\n",
        "misterio2 =[1, 1, 0]\n",
        "misterio3 =[0, 1, 1]\n",
        "\n",
        "teste_x = [misterio1, misterio2, misterio3]\n",
        "teste_y = [0, 1, 1]"
      ],
      "metadata": {
        "id": "wQx2Tnh89-xh"
      },
      "execution_count": null,
      "outputs": []
    },
    {
      "cell_type": "code",
      "source": [
        "previsoes = modelo.predict(teste_x)\n",
        "previsoes"
      ],
      "metadata": {
        "colab": {
          "base_uri": "https://localhost:8080/"
        },
        "id": "zCtVuRRM-xSb",
        "outputId": "9a1a78a0-1f78-42fb-9506-87d535f2640b"
      },
      "execution_count": null,
      "outputs": [
        {
          "output_type": "execute_result",
          "data": {
            "text/plain": [
              "array([0, 1, 0])"
            ]
          },
          "metadata": {},
          "execution_count": 10
        }
      ]
    },
    {
      "cell_type": "markdown",
      "source": [
        "**Teste de métrica:**"
      ],
      "metadata": {
        "id": "010ohiWL_t_R"
      }
    },
    {
      "cell_type": "code",
      "source": [
        "from sklearn.metrics import accuracy_score\n",
        "accuracy_score(teste_y, previsoes)"
      ],
      "metadata": {
        "colab": {
          "base_uri": "https://localhost:8080/"
        },
        "id": "P8Qnmp4y-_tL",
        "outputId": "46b42eaa-f409-44d8-eca6-f8056402fd11"
      },
      "execution_count": null,
      "outputs": [
        {
          "output_type": "execute_result",
          "data": {
            "text/plain": [
              "0.6666666666666666"
            ]
          },
          "metadata": {},
          "execution_count": 11
        }
      ]
    }
  ]
}